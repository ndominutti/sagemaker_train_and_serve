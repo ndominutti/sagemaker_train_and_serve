{
 "cells": [
  {
   "cell_type": "code",
   "execution_count": 4,
   "metadata": {},
   "outputs": [
    {
     "ename": "ModuleNotFoundError",
     "evalue": "No module named 'boto3'",
     "output_type": "error",
     "traceback": [
      "\u001b[1;31m---------------------------------------------------------------------------\u001b[0m",
      "\u001b[1;31mModuleNotFoundError\u001b[0m                       Traceback (most recent call last)",
      "Cell \u001b[1;32mIn[4], line 1\u001b[0m\n\u001b[1;32m----> 1\u001b[0m \u001b[39mimport\u001b[39;00m \u001b[39mboto3\u001b[39;00m\n\u001b[0;32m      2\u001b[0m \u001b[39mimport\u001b[39;00m \u001b[39mre\u001b[39;00m\n\u001b[0;32m      3\u001b[0m \u001b[39mimport\u001b[39;00m \u001b[39mos\u001b[39;00m\n",
      "\u001b[1;31mModuleNotFoundError\u001b[0m: No module named 'boto3'"
     ]
    }
   ],
   "source": [
    "import boto3\n",
    "import re\n",
    "import os\n",
    "import numpy as np\n",
    "import pandas as pd\n",
    "from sagemaker import get_execution_role\n",
    "from sagemaker.serializers import CSVSerializer\n",
    "from sagemaker.deserializers import CSVDeserializer\n",
    "import roles\n",
    "import sagemaker as sage\n",
    "from time import gmtime, strftime"
   ]
  },
  {
   "cell_type": "code",
   "execution_count": 5,
   "metadata": {},
   "outputs": [],
   "source": [
    "#Set to True if you want to train before deploy\n",
    "TRAIN = False"
   ]
  },
  {
   "cell_type": "markdown",
   "metadata": {},
   "source": [
    "### AWS connection startup"
   ]
  },
  {
   "cell_type": "code",
   "execution_count": 6,
   "metadata": {},
   "outputs": [
    {
     "ename": "NameError",
     "evalue": "name 'roles' is not defined",
     "output_type": "error",
     "traceback": [
      "\u001b[1;31m---------------------------------------------------------------------------\u001b[0m",
      "\u001b[1;31mNameError\u001b[0m                                 Traceback (most recent call last)",
      "Cell \u001b[1;32mIn[6], line 1\u001b[0m\n\u001b[1;32m----> 1\u001b[0m role \u001b[39m=\u001b[39m \u001b[39mf\u001b[39m\u001b[39m\"\u001b[39m\u001b[39marn:aws:iam::\u001b[39m\u001b[39m{\u001b[39;00mroles\u001b[39m.\u001b[39maccount_ID\u001b[39m}\u001b[39;00m\u001b[39m:role/\u001b[39m\u001b[39m{\u001b[39;00mroles\u001b[39m.\u001b[39mSageMakerExecutionRole\u001b[39m}\u001b[39;00m\u001b[39m\"\u001b[39m\n\u001b[0;32m      2\u001b[0m sess \u001b[39m=\u001b[39m sage\u001b[39m.\u001b[39mSession()\n",
      "\u001b[1;31mNameError\u001b[0m: name 'roles' is not defined"
     ]
    }
   ],
   "source": [
    "role = f\"arn:aws:iam::{roles.account_ID}:role/{roles.SageMakerExecutionRole}\"\n",
    "sess = sage.Session()"
   ]
  },
  {
   "cell_type": "markdown",
   "metadata": {},
   "source": [
    "---"
   ]
  },
  {
   "cell_type": "markdown",
   "metadata": {},
   "source": [
    "### Sample data upload to S3"
   ]
  },
  {
   "cell_type": "code",
   "execution_count": null,
   "metadata": {},
   "outputs": [],
   "source": [
    "WORK_DIRECTORY = \"../src/data\"\n",
    "prefix = \"DEMO-DATA\"\n",
    "data_location = sess.upload_data(WORK_DIRECTORY, key_prefix=prefix)"
   ]
  },
  {
   "cell_type": "markdown",
   "metadata": {},
   "source": [
    "---"
   ]
  },
  {
   "cell_type": "markdown",
   "metadata": {},
   "source": [
    "### TRAINING"
   ]
  },
  {
   "cell_type": "markdown",
   "metadata": {},
   "source": [
    "To create the estimator we need:\n",
    "* an ECR image\n",
    "* a role\n",
    "* an instance_type\n",
    "* and output_path\n",
    "* a session"
   ]
  },
  {
   "cell_type": "code",
   "execution_count": null,
   "metadata": {},
   "outputs": [],
   "source": [
    "account = sess.boto_session.client(\"sts\").get_caller_identity()[\"Account\"]\n",
    "region = sess.boto_session.region_name\n",
    "image = \"{}.dkr.ecr.{}.amazonaws.com/sagemaker-deploy-terraform:latest\".format(account, region)\n",
    "instance_type = \"ml.c4.2xlarge\"\n",
    "output_path = \"s3://{}/output\".format(sess.default_bucket())"
   ]
  },
  {
   "cell_type": "code",
   "execution_count": null,
   "metadata": {},
   "outputs": [],
   "source": [
    "# # we use the Hyperparameter Tuner\n",
    "# from sagemaker.tuner import IntegerParameter\n",
    "\n",
    "# # Define exploration boundaries\n",
    "# hyperparameter_ranges = {\n",
    "#     \"n-estimators\": IntegerParameter(20, 100),\n",
    "#     \"min-samples-leaf\": IntegerParameter(2, 6),\n",
    "# }\n",
    "\n",
    "# # create Optimizer\n",
    "# Optimizer = sagemaker.tuner.HyperparameterTuner(\n",
    "#     estimator=sagemaker_model,\n",
    "#     hyperparameter_ranges=hyperparameter_ranges,\n",
    "#     base_tuning_job_name=\"RF-tuner\",\n",
    "#     objective_type=\"Minimize\",\n",
    "#     objective_metric_name=\"median-AE\",\n",
    "#     metric_definitions=[\n",
    "#         {\"Name\": \"median-AE\", \"Regex\": \"AE-at-50th-percentile: ([0-9.]+).*$\"} # Hay que hacer que el script de entrenamiento printee\n",
    "#     ],  # extract tracked metric from logs with regexp\n",
    "#     max_jobs=10,\n",
    "#     max_parallel_jobs=2,\n",
    "# )\n",
    "\n",
    "\n",
    "# Optimizer.fit({\"train\": trainpath, \"test\": testpath})\n",
    "\n",
    "\n",
    "# get tuner results in a df\n",
    "# results = Optimizer.analytics().dataframe()\n",
    "# while results.empty:\n",
    "#     time.sleep(1)\n",
    "#     results = Optimizer.analytics().dataframe()\n",
    "# results.head()"
   ]
  },
  {
   "cell_type": "code",
   "execution_count": null,
   "metadata": {},
   "outputs": [],
   "source": [
    "if TRAIN:\n",
    "    sagemaker_model = sage.estimator.Estimator(\n",
    "    image,\n",
    "    role,\n",
    "    1,\n",
    "    instance_type,\n",
    "    output_path=output_path,\n",
    "    sagemaker_session=sess,\n",
    "    container_port=8080\n",
    ")\n",
    "    sagemaker_model.fit(data_location)\n",
    "    # estimator.fit({\"training\": \"s3://bucket/path/to/training/data\", \n",
    "    #            \"testing\": \"s3://bucket/path/to/testing/data\"})\n",
    "else:\n",
    "    # Define your trained model artifact path\n",
    "    model_artifact = 's3://sagemaker-us-east-2-169385451286/output/sagemaker-deploy-terraform-2023-09-06-00-09-13-615/output/model.tar.gz'\n",
    "    \n",
    "    # Create a SageMaker Model object\n",
    "    sagemaker_model = sage.Model(\n",
    "        model_data=model_artifact,\n",
    "        role=role,\n",
    "        image_uri=image\n",
    "    )"
   ]
  },
  {
   "cell_type": "markdown",
   "metadata": {},
   "source": [
    "---"
   ]
  },
  {
   "cell_type": "markdown",
   "metadata": {},
   "source": [
    "### HOSTING"
   ]
  },
  {
   "cell_type": "markdown",
   "metadata": {},
   "source": [
    "Deploying process may take some minutes, you can check the status in your aws sagemaker client"
   ]
  },
  {
   "cell_type": "code",
   "execution_count": null,
   "metadata": {},
   "outputs": [],
   "source": [
    "predictor = sagemaker_model.deploy(1, \"ml.m4.xlarge\", serializer=CSVSerializer(), deserializer=CSVDeserializer())"
   ]
  },
  {
   "cell_type": "markdown",
   "metadata": {},
   "source": [
    "---"
   ]
  },
  {
   "cell_type": "markdown",
   "metadata": {},
   "source": [
    "### Sample trial"
   ]
  },
  {
   "cell_type": "code",
   "execution_count": null,
   "metadata": {},
   "outputs": [],
   "source": [
    "shape = pd.read_csv(\"../src/data/iris.csv\", header=None)\n",
    "shape.sample(3)"
   ]
  },
  {
   "cell_type": "code",
   "execution_count": null,
   "metadata": {},
   "outputs": [],
   "source": [
    "# drop the label column in the training set\n",
    "shape.drop(shape.columns[[0]], axis=1, inplace=True)\n",
    "shape.sample(3)"
   ]
  },
  {
   "cell_type": "code",
   "execution_count": null,
   "metadata": {},
   "outputs": [],
   "source": [
    "import itertools\n",
    "\n",
    "a = [50 * i for i in range(3)]\n",
    "b = [40 + i for i in range(10)]\n",
    "indices = [i + j for i, j in itertools.product(a, b)]\n",
    "\n",
    "test_data = shape.iloc[indices[:-1]]"
   ]
  },
  {
   "cell_type": "code",
   "execution_count": null,
   "metadata": {},
   "outputs": [],
   "source": [
    "if not TRAIN:\n",
    "    endpoint_name = 'sagemaker-deploy-terraform-2023-09-06-19-19-03-606'\n",
    "    predictor = sage.predictor.Predictor(endpoint_name)"
   ]
  },
  {
   "cell_type": "code",
   "execution_count": null,
   "metadata": {},
   "outputs": [],
   "source": [
    "print(predictor.predict(test_data.to_csv(sep=\",\", header=False, index=False)))#.decode(\"utf-8\")\n",
    "#test_data.values"
   ]
  },
  {
   "cell_type": "code",
   "execution_count": null,
   "metadata": {},
   "outputs": [],
   "source": [
    "import boto3\n",
    "import json\n",
    "# Create a SageMaker runtime client\n",
    "sagemaker_runtime = boto3.client('sagemaker-runtime')"
   ]
  },
  {
   "cell_type": "code",
   "execution_count": null,
   "metadata": {},
   "outputs": [],
   "source": [
    "# Specify the endpoint name and content type\n",
    "content_type = 'text/csv'  # Adjust this based on your model's input format\n",
    "\n",
    "# Prepare your input data (modify to match your model's input format)\n",
    "input_data = {\"data\": test_data.to_csv(sep=\",\", header=False, index=False)}"
   ]
  },
  {
   "cell_type": "code",
   "execution_count": null,
   "metadata": {},
   "outputs": [],
   "source": [
    "# Send the prediction request\n",
    "response = sagemaker_runtime.invoke_endpoint(\n",
    "    EndpointName=endpoint_name,\n",
    "    ContentType=content_type,\n",
    "    Body=json.dumps(input_data)\n",
    ")"
   ]
  },
  {
   "cell_type": "markdown",
   "metadata": {},
   "source": [
    "---"
   ]
  },
  {
   "cell_type": "markdown",
   "metadata": {},
   "source": [
    "### Clean up"
   ]
  },
  {
   "cell_type": "code",
   "execution_count": null,
   "metadata": {},
   "outputs": [],
   "source": [
    "#sess.delete_endpoint(predictor.endpoint)"
   ]
  }
 ],
 "metadata": {
  "kernelspec": {
   "display_name": "trian_serve",
   "language": "python",
   "name": "python3"
  },
  "language_info": {
   "codemirror_mode": {
    "name": "ipython",
    "version": 3
   },
   "file_extension": ".py",
   "mimetype": "text/x-python",
   "name": "python",
   "nbconvert_exporter": "python",
   "pygments_lexer": "ipython3",
   "version": "3.11.5"
  },
  "orig_nbformat": 4
 },
 "nbformat": 4,
 "nbformat_minor": 2
}
