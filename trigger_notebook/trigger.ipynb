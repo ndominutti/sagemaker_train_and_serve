{
 "cells": [
  {
   "cell_type": "code",
   "execution_count": 7,
   "metadata": {},
   "outputs": [
    {
     "name": "stderr",
     "output_type": "stream",
     "text": [
      "El sistema no puede encontrar la ruta especificada.\n",
      "\n",
      "Usage:   \n",
      "  pip install [options] <requirement specifier> [package-index-options] ...\n",
      "  pip install [options] -r <requirements file> [package-index-options] ...\n",
      "  pip install [options] [-e] <vcs project url> ...\n",
      "  pip install [options] [-e] <local project path> ...\n",
      "  pip install [options] <archive url/path> ...\n",
      "\n",
      "no such option: -y\n"
     ]
    },
    {
     "name": "stdout",
     "output_type": "stream",
     "text": [
      "Collecting boto3\n",
      "  Obtaining dependency information for boto3 from https://files.pythonhosted.org/packages/af/9c/58ca26190a8b89776ec66fdf769d6d0d5287044417b58df4d8225a081153/boto3-1.28.42-py3-none-any.whl.metadata\n",
      "  Downloading boto3-1.28.42-py3-none-any.whl.metadata (6.7 kB)\n",
      "Collecting numpy\n",
      "  Obtaining dependency information for numpy from https://files.pythonhosted.org/packages/72/b2/02770e60c4e2f7e158d923ab0dea4e9f146a2dbf267fec6d8dc61d475689/numpy-1.25.2-cp311-cp311-win_amd64.whl.metadata\n",
      "  Downloading numpy-1.25.2-cp311-cp311-win_amd64.whl.metadata (5.7 kB)\n",
      "Collecting pandas\n",
      "  Obtaining dependency information for pandas from https://files.pythonhosted.org/packages/b7/f8/32d6b5aa4c4bc045fa2c4c58f88c325facc54721956c6313f0afea8ea853/pandas-2.1.0-cp311-cp311-win_amd64.whl.metadata\n",
      "  Downloading pandas-2.1.0-cp311-cp311-win_amd64.whl.metadata (18 kB)\n",
      "Collecting sagemaker\n",
      "  Downloading sagemaker-2.183.0.tar.gz (869 kB)\n",
      "     ---------------------------------------- 0.0/869.2 kB ? eta -:--:--\n",
      "     --------------------------- --------- 655.4/869.2 kB 13.7 MB/s eta 0:00:01\n",
      "     ------------------------------------  860.2/869.2 kB 10.9 MB/s eta 0:00:01\n",
      "     -------------------------------------- 869.2/869.2 kB 6.1 MB/s eta 0:00:00\n",
      "  Installing build dependencies: started\n",
      "  Installing build dependencies: finished with status 'done'\n",
      "  Getting requirements to build wheel: started\n",
      "  Getting requirements to build wheel: finished with status 'done'\n",
      "  Preparing metadata (pyproject.toml): started\n",
      "  Preparing metadata (pyproject.toml): finished with status 'done'\n",
      "Collecting botocore<1.32.0,>=1.31.42 (from boto3)\n",
      "  Obtaining dependency information for botocore<1.32.0,>=1.31.42 from https://files.pythonhosted.org/packages/c6/1f/334248d06f8cdf397a0aff2e0fad6eb91b731f0c68f85cf93e6ed9835f06/botocore-1.31.42-py3-none-any.whl.metadata\n",
      "  Downloading botocore-1.31.42-py3-none-any.whl.metadata (6.0 kB)\n",
      "Collecting jmespath<2.0.0,>=0.7.1 (from boto3)\n",
      "  Downloading jmespath-1.0.1-py3-none-any.whl (20 kB)\n",
      "Collecting s3transfer<0.7.0,>=0.6.0 (from boto3)\n",
      "  Obtaining dependency information for s3transfer<0.7.0,>=0.6.0 from https://files.pythonhosted.org/packages/d9/17/a3b666f5ef9543cfd3c661d39d1e193abb9649d0cfbbfee3cf3b51d5af02/s3transfer-0.6.2-py3-none-any.whl.metadata\n",
      "  Downloading s3transfer-0.6.2-py3-none-any.whl.metadata (1.8 kB)\n",
      "Requirement already satisfied: python-dateutil>=2.8.2 in c:\\users\\miguel dominutti\\ml\\trian_serve\\lib\\site-packages (from pandas) (2.8.2)\n",
      "Collecting pytz>=2020.1 (from pandas)\n",
      "  Obtaining dependency information for pytz>=2020.1 from https://files.pythonhosted.org/packages/32/4d/aaf7eff5deb402fd9a24a1449a8119f00d74ae9c2efa79f8ef9994261fc2/pytz-2023.3.post1-py2.py3-none-any.whl.metadata\n",
      "  Downloading pytz-2023.3.post1-py2.py3-none-any.whl.metadata (22 kB)\n",
      "Collecting tzdata>=2022.1 (from pandas)\n",
      "  Downloading tzdata-2023.3-py2.py3-none-any.whl (341 kB)\n",
      "     ---------------------------------------- 0.0/341.8 kB ? eta -:--:--\n",
      "     ------------------------------------  337.9/341.8 kB 21.8 MB/s eta 0:00:01\n",
      "     ------------------------------------  337.9/341.8 kB 21.8 MB/s eta 0:00:01\n",
      "     -------------------------------------- 341.8/341.8 kB 4.3 MB/s eta 0:00:00\n",
      "Collecting attrs<24,>=23.1.0 (from sagemaker)\n",
      "  Downloading attrs-23.1.0-py3-none-any.whl (61 kB)\n",
      "     ---------------------------------------- 0.0/61.2 kB ? eta -:--:--\n",
      "     --------------------------------- ------ 51.2/61.2 kB ? eta -:--:--\n",
      "     ---------------------------------------- 61.2/61.2 kB 1.1 MB/s eta 0:00:00\n",
      "Collecting cloudpickle==2.2.1 (from sagemaker)\n",
      "  Downloading cloudpickle-2.2.1-py3-none-any.whl (25 kB)\n",
      "Collecting google-pasta (from sagemaker)\n",
      "  Downloading google_pasta-0.2.0-py3-none-any.whl (57 kB)\n",
      "     ---------------------------------------- 0.0/57.5 kB ? eta -:--:--\n",
      "     ----------------------------------- ---- 51.2/57.5 kB ? eta -:--:--\n",
      "     -------------------------------------- 57.5/57.5 kB 761.8 kB/s eta 0:00:00\n",
      "Collecting protobuf<5.0,>=3.12 (from sagemaker)\n",
      "  Obtaining dependency information for protobuf<5.0,>=3.12 from https://files.pythonhosted.org/packages/14/ff/10f746c03212fe48576b2c0f5ada73c3400b6d90f769728c4f07656d8b27/protobuf-4.24.2-cp310-abi3-win_amd64.whl.metadata\n",
      "  Downloading protobuf-4.24.2-cp310-abi3-win_amd64.whl.metadata (540 bytes)\n",
      "Collecting smdebug-rulesconfig==1.0.1 (from sagemaker)\n",
      "  Downloading smdebug_rulesconfig-1.0.1-py2.py3-none-any.whl (20 kB)\n",
      "Collecting importlib-metadata<7.0,>=1.4.0 (from sagemaker)\n",
      "  Obtaining dependency information for importlib-metadata<7.0,>=1.4.0 from https://files.pythonhosted.org/packages/cc/37/db7ba97e676af155f5fcb1a35466f446eadc9104e25b83366e8088c9c926/importlib_metadata-6.8.0-py3-none-any.whl.metadata\n",
      "  Downloading importlib_metadata-6.8.0-py3-none-any.whl.metadata (5.1 kB)\n",
      "Requirement already satisfied: packaging>=20.0 in c:\\users\\miguel dominutti\\ml\\trian_serve\\lib\\site-packages (from sagemaker) (23.1)\n",
      "Collecting pathos (from sagemaker)\n",
      "  Obtaining dependency information for pathos from https://files.pythonhosted.org/packages/d8/08/ac94fa6f9eefe32963b8a54e573dab0dbc0d3df24fd34924bd9ce7eab7c4/pathos-0.3.1-py3-none-any.whl.metadata\n",
      "  Downloading pathos-0.3.1-py3-none-any.whl.metadata (11 kB)\n",
      "Collecting schema (from sagemaker)\n",
      "  Downloading schema-0.7.5-py2.py3-none-any.whl (17 kB)\n",
      "Collecting PyYAML~=6.0 (from sagemaker)\n",
      "  Obtaining dependency information for PyYAML~=6.0 from https://files.pythonhosted.org/packages/b3/34/65bb4b2d7908044963ebf614fe0fdb080773fc7030d7e39c8d3eddcd4257/PyYAML-6.0.1-cp311-cp311-win_amd64.whl.metadata\n",
      "  Downloading PyYAML-6.0.1-cp311-cp311-win_amd64.whl.metadata (2.1 kB)\n",
      "Collecting jsonschema (from sagemaker)\n",
      "  Obtaining dependency information for jsonschema from https://files.pythonhosted.org/packages/2b/ff/af59fd34bc4d7ac3e6e0cd1f3c10317d329b6c1aee179e8b24ad9a79fbac/jsonschema-4.19.0-py3-none-any.whl.metadata\n",
      "  Downloading jsonschema-4.19.0-py3-none-any.whl.metadata (8.2 kB)\n",
      "Requirement already satisfied: platformdirs in c:\\users\\miguel dominutti\\ml\\trian_serve\\lib\\site-packages (from sagemaker) (3.10.0)\n",
      "Collecting tblib==1.7.0 (from sagemaker)\n",
      "  Downloading tblib-1.7.0-py2.py3-none-any.whl (12 kB)\n",
      "Collecting urllib3<1.27,>=1.25.4 (from botocore<1.32.0,>=1.31.42->boto3)\n",
      "  Obtaining dependency information for urllib3<1.27,>=1.25.4 from https://files.pythonhosted.org/packages/c5/05/c214b32d21c0b465506f95c4f28ccbcba15022e000b043b72b3df7728471/urllib3-1.26.16-py2.py3-none-any.whl.metadata\n",
      "  Downloading urllib3-1.26.16-py2.py3-none-any.whl.metadata (48 kB)\n",
      "     ---------------------------------------- 0.0/48.4 kB ? eta -:--:--\n",
      "     --------------------------------- ------ 41.0/48.4 kB ? eta -:--:--\n",
      "     ---------------------------------------- 48.4/48.4 kB 1.2 MB/s eta 0:00:00\n",
      "Collecting zipp>=0.5 (from importlib-metadata<7.0,>=1.4.0->sagemaker)\n",
      "  Obtaining dependency information for zipp>=0.5 from https://files.pythonhosted.org/packages/8c/08/d3006317aefe25ea79d3b76c9650afabaf6d63d1c8443b236e7405447503/zipp-3.16.2-py3-none-any.whl.metadata\n",
      "  Downloading zipp-3.16.2-py3-none-any.whl.metadata (3.7 kB)\n",
      "Requirement already satisfied: six>=1.5 in c:\\users\\miguel dominutti\\ml\\trian_serve\\lib\\site-packages (from python-dateutil>=2.8.2->pandas) (1.16.0)\n",
      "Collecting jsonschema-specifications>=2023.03.6 (from jsonschema->sagemaker)\n",
      "  Obtaining dependency information for jsonschema-specifications>=2023.03.6 from https://files.pythonhosted.org/packages/1c/24/83349ac2189cc2435e84da3f69ba3c97314d3c0622628e55171c6798ed80/jsonschema_specifications-2023.7.1-py3-none-any.whl.metadata\n",
      "  Downloading jsonschema_specifications-2023.7.1-py3-none-any.whl.metadata (2.8 kB)\n",
      "Collecting referencing>=0.28.4 (from jsonschema->sagemaker)\n",
      "  Obtaining dependency information for referencing>=0.28.4 from https://files.pythonhosted.org/packages/be/8e/56d6f1e2d591f4d6cbcba446cac4a1b0dc4f584537e2071d9bcee8eeab6b/referencing-0.30.2-py3-none-any.whl.metadata\n",
      "  Downloading referencing-0.30.2-py3-none-any.whl.metadata (2.6 kB)\n",
      "Collecting rpds-py>=0.7.1 (from jsonschema->sagemaker)\n",
      "  Obtaining dependency information for rpds-py>=0.7.1 from https://files.pythonhosted.org/packages/f2/7a/3721b7295d7fcff1d0857cca843fd3c4e6dcbab649edab514ded7e27660b/rpds_py-0.10.2-cp311-none-win_amd64.whl.metadata\n",
      "  Downloading rpds_py-0.10.2-cp311-none-win_amd64.whl.metadata (3.8 kB)\n",
      "Collecting ppft>=1.7.6.7 (from pathos->sagemaker)\n",
      "  Obtaining dependency information for ppft>=1.7.6.7 from https://files.pythonhosted.org/packages/f0/f8/0a493dfdf73edbfe58cae1323aec72d0152f463c7a351bd285e9d500985c/ppft-1.7.6.7-py3-none-any.whl.metadata\n",
      "  Downloading ppft-1.7.6.7-py3-none-any.whl.metadata (12 kB)\n",
      "Collecting dill>=0.3.7 (from pathos->sagemaker)\n",
      "  Obtaining dependency information for dill>=0.3.7 from https://files.pythonhosted.org/packages/f5/3a/74a29b11cf2cdfcd6ba89c0cecd70b37cd1ba7b77978ce611eb7a146a832/dill-0.3.7-py3-none-any.whl.metadata\n",
      "  Downloading dill-0.3.7-py3-none-any.whl.metadata (9.9 kB)\n",
      "Collecting pox>=0.3.3 (from pathos->sagemaker)\n",
      "  Obtaining dependency information for pox>=0.3.3 from https://files.pythonhosted.org/packages/17/c7/ef7e37e5a895f5de068b408a52bee0710b1092574b6b4ab247a767e9fbd5/pox-0.3.3-py3-none-any.whl.metadata\n",
      "  Downloading pox-0.3.3-py3-none-any.whl.metadata (8.0 kB)\n",
      "Collecting multiprocess>=0.70.15 (from pathos->sagemaker)\n",
      "  Obtaining dependency information for multiprocess>=0.70.15 from https://files.pythonhosted.org/packages/e7/41/96ac938770ba6e7d5ae1d8c9cafebac54b413549042c6260f0d0a6ec6622/multiprocess-0.70.15-py311-none-any.whl.metadata\n",
      "  Downloading multiprocess-0.70.15-py311-none-any.whl.metadata (7.2 kB)\n",
      "Collecting contextlib2>=0.5.5 (from schema->sagemaker)\n",
      "  Downloading contextlib2-21.6.0-py2.py3-none-any.whl (13 kB)\n",
      "Downloading boto3-1.28.42-py3-none-any.whl (135 kB)\n",
      "   ---------------------------------------- 0.0/135.8 kB ? eta -:--:--\n",
      "   ---------------------------------------  133.1/135.8 kB 7.7 MB/s eta 0:00:01\n",
      "   ---------------------------------------  133.1/135.8 kB 7.7 MB/s eta 0:00:01\n",
      "   ---------------------------------------- 135.8/135.8 kB 1.3 MB/s eta 0:00:00\n",
      "Downloading numpy-1.25.2-cp311-cp311-win_amd64.whl (15.5 MB)\n",
      "   ---------------------------------------- 0.0/15.5 MB ? eta -:--:--\n",
      "   - -------------------------------------- 0.6/15.5 MB 7.2 MB/s eta 0:00:03\n",
      "   --- ------------------------------------ 1.4/15.5 MB 9.9 MB/s eta 0:00:02\n",
      "   ----- ---------------------------------- 2.1/15.5 MB 9.6 MB/s eta 0:00:02\n",
      "   ------ --------------------------------- 2.7/15.5 MB 10.0 MB/s eta 0:00:02\n",
      "   --------- ------------------------------ 3.8/15.5 MB 11.6 MB/s eta 0:00:02\n",
      "   ------------ --------------------------- 4.8/15.5 MB 12.2 MB/s eta 0:00:01\n",
      "   ------------- -------------------------- 5.3/15.5 MB 12.1 MB/s eta 0:00:01\n",
      "   --------------- ------------------------ 5.9/15.5 MB 12.2 MB/s eta 0:00:01\n",
      "   ---------------- ----------------------- 6.6/15.5 MB 12.3 MB/s eta 0:00:01\n",
      "   ------------------ --------------------- 7.1/15.5 MB 12.3 MB/s eta 0:00:01\n",
      "   ------------------- -------------------- 7.5/15.5 MB 12.4 MB/s eta 0:00:01\n",
      "   -------------------- ------------------- 8.1/15.5 MB 12.4 MB/s eta 0:00:01\n",
      "   ----------------------- ---------------- 9.1/15.5 MB 12.6 MB/s eta 0:00:01\n",
      "   ------------------------ --------------- 9.5/15.5 MB 12.4 MB/s eta 0:00:01\n",
      "   -------------------------- ------------- 10.3/15.5 MB 12.6 MB/s eta 0:00:01\n",
      "   --------------------------- ------------ 10.7/15.5 MB 12.4 MB/s eta 0:00:01\n",
      "   ------------------------------ --------- 11.7/15.5 MB 13.1 MB/s eta 0:00:01\n",
      "   ------------------------------- -------- 12.3/15.5 MB 12.8 MB/s eta 0:00:01\n",
      "   --------------------------------- ------ 13.1/15.5 MB 13.9 MB/s eta 0:00:01\n",
      "   ----------------------------------- ---- 14.0/15.5 MB 12.8 MB/s eta 0:00:01\n",
      "   -------------------------------------- - 14.9/15.5 MB 12.6 MB/s eta 0:00:01\n",
      "   ---------------------------------------  15.5/15.5 MB 12.8 MB/s eta 0:00:01\n",
      "   ---------------------------------------  15.5/15.5 MB 12.8 MB/s eta 0:00:01\n",
      "   ---------------------------------------  15.5/15.5 MB 12.8 MB/s eta 0:00:01\n",
      "   ---------------------------------------  15.5/15.5 MB 12.8 MB/s eta 0:00:01\n",
      "   ---------------------------------------  15.5/15.5 MB 12.8 MB/s eta 0:00:01\n",
      "   ---------------------------------------  15.5/15.5 MB 12.8 MB/s eta 0:00:01\n",
      "   ---------------------------------------  15.5/15.5 MB 12.8 MB/s eta 0:00:01\n",
      "   ---------------------------------------  15.5/15.5 MB 12.8 MB/s eta 0:00:01\n",
      "   ---------------------------------------  15.5/15.5 MB 12.8 MB/s eta 0:00:01\n",
      "   ---------------------------------------  15.5/15.5 MB 12.8 MB/s eta 0:00:01\n",
      "   ---------------------------------------  15.5/15.5 MB 12.8 MB/s eta 0:00:01\n",
      "   ---------------------------------------  15.5/15.5 MB 12.8 MB/s eta 0:00:01\n",
      "   ---------------------------------------  15.5/15.5 MB 12.8 MB/s eta 0:00:01\n",
      "   ---------------------------------------  15.5/15.5 MB 12.8 MB/s eta 0:00:01\n",
      "   ---------------------------------------- 15.5/15.5 MB 7.1 MB/s eta 0:00:00\n",
      "Downloading pandas-2.1.0-cp311-cp311-win_amd64.whl (11.0 MB)\n",
      "   ---------------------------------------- 0.0/11.0 MB ? eta -:--:--\n",
      "   -- ------------------------------------- 0.6/11.0 MB 17.3 MB/s eta 0:00:01\n",
      "   ---- ----------------------------------- 1.1/11.0 MB 14.1 MB/s eta 0:00:01\n",
      "   ----- ---------------------------------- 1.6/11.0 MB 12.7 MB/s eta 0:00:01\n",
      "   -------- ------------------------------- 2.5/11.0 MB 12.1 MB/s eta 0:00:01\n",
      "   ---------- ----------------------------- 2.8/11.0 MB 11.8 MB/s eta 0:00:01\n",
      "   ------------ --------------------------- 3.5/11.0 MB 11.1 MB/s eta 0:00:01\n",
      "   --------------- ------------------------ 4.2/11.0 MB 11.7 MB/s eta 0:00:01\n",
      "   ----------------- ---------------------- 4.8/11.0 MB 12.2 MB/s eta 0:00:01\n",
      "   ------------------- -------------------- 5.4/11.0 MB 12.0 MB/s eta 0:00:01\n",
      "   ---------------------- ----------------- 6.2/11.0 MB 12.5 MB/s eta 0:00:01\n",
      "   ------------------------ --------------- 6.9/11.0 MB 12.5 MB/s eta 0:00:01\n",
      "   --------------------------- ------------ 7.5/11.0 MB 12.9 MB/s eta 0:00:01\n",
      "   ----------------------------- ---------- 8.0/11.0 MB 12.9 MB/s eta 0:00:01\n",
      "   ------------------------------- -------- 8.6/11.0 MB 12.8 MB/s eta 0:00:01\n",
      "   -------------------------------- ------- 9.0/11.0 MB 12.6 MB/s eta 0:00:01\n",
      "   ---------------------------------- ----- 9.6/11.0 MB 12.6 MB/s eta 0:00:01\n",
      "   ------------------------------------- -- 10.3/11.0 MB 12.6 MB/s eta 0:00:01\n",
      "   ---------------------------------------  11.0/11.0 MB 12.4 MB/s eta 0:00:01\n",
      "   ---------------------------------------  11.0/11.0 MB 12.1 MB/s eta 0:00:01\n",
      "   ---------------------------------------  11.0/11.0 MB 12.1 MB/s eta 0:00:01\n",
      "   ---------------------------------------  11.0/11.0 MB 12.1 MB/s eta 0:00:01\n",
      "   ---------------------------------------  11.0/11.0 MB 12.1 MB/s eta 0:00:01\n",
      "   ---------------------------------------  11.0/11.0 MB 12.1 MB/s eta 0:00:01\n",
      "   ---------------------------------------  11.0/11.0 MB 12.1 MB/s eta 0:00:01\n",
      "   ---------------------------------------  11.0/11.0 MB 12.1 MB/s eta 0:00:01\n",
      "   ---------------------------------------  11.0/11.0 MB 12.1 MB/s eta 0:00:01\n",
      "   ---------------------------------------  11.0/11.0 MB 12.1 MB/s eta 0:00:01\n",
      "   ---------------------------------------- 11.0/11.0 MB 7.9 MB/s eta 0:00:00\n",
      "Downloading botocore-1.31.42-py3-none-any.whl (11.2 MB)\n",
      "   ---------------------------------------- 0.0/11.2 MB ? eta -:--:--\n",
      "   -- ------------------------------------- 0.6/11.2 MB 20.5 MB/s eta 0:00:01\n",
      "   --- ------------------------------------ 0.9/11.2 MB 9.2 MB/s eta 0:00:02\n",
      "   ----- ---------------------------------- 1.5/11.2 MB 11.6 MB/s eta 0:00:01\n",
      "   ------ --------------------------------- 1.8/11.2 MB 9.6 MB/s eta 0:00:01\n",
      "   ---------- ----------------------------- 2.8/11.2 MB 11.9 MB/s eta 0:00:01\n",
      "   ------------ --------------------------- 3.4/11.2 MB 12.6 MB/s eta 0:00:01\n",
      "   -------------- ------------------------- 4.0/11.2 MB 12.6 MB/s eta 0:00:01\n",
      "   ---------------- ----------------------- 4.6/11.2 MB 12.8 MB/s eta 0:00:01\n",
      "   ------------------- -------------------- 5.5/11.2 MB 13.1 MB/s eta 0:00:01\n",
      "   --------------------- ------------------ 6.1/11.2 MB 12.5 MB/s eta 0:00:01\n",
      "   ----------------------- ---------------- 6.7/11.2 MB 12.9 MB/s eta 0:00:01\n",
      "   -------------------------- ------------- 7.4/11.2 MB 12.8 MB/s eta 0:00:01\n",
      "   ---------------------------- ----------- 7.9/11.2 MB 12.6 MB/s eta 0:00:01\n",
      "   ------------------------------ --------- 8.7/11.2 MB 12.6 MB/s eta 0:00:01\n",
      "   --------------------------------- ------ 9.3/11.2 MB 12.6 MB/s eta 0:00:01\n",
      "   ---------------------------------- ----- 9.7/11.2 MB 11.9 MB/s eta 0:00:01\n",
      "   ----------------------------------- ---- 9.8/11.2 MB 12.1 MB/s eta 0:00:01\n",
      "   ---------------------------------------  11.0/11.2 MB 11.5 MB/s eta 0:00:01\n",
      "   ---------------------------------------  11.2/11.2 MB 11.9 MB/s eta 0:00:01\n",
      "   ---------------------------------------  11.2/11.2 MB 11.9 MB/s eta 0:00:01\n",
      "   ---------------------------------------  11.2/11.2 MB 11.9 MB/s eta 0:00:01\n",
      "   ---------------------------------------  11.2/11.2 MB 11.9 MB/s eta 0:00:01\n",
      "   ---------------------------------------  11.2/11.2 MB 11.9 MB/s eta 0:00:01\n",
      "   ---------------------------------------  11.2/11.2 MB 11.9 MB/s eta 0:00:01\n",
      "   ---------------------------------------  11.2/11.2 MB 11.9 MB/s eta 0:00:01\n",
      "   ---------------------------------------  11.2/11.2 MB 11.9 MB/s eta 0:00:01\n",
      "   ---------------------------------------  11.2/11.2 MB 11.9 MB/s eta 0:00:01\n",
      "   ---------------------------------------  11.2/11.2 MB 11.9 MB/s eta 0:00:01\n",
      "   ---------------------------------------  11.2/11.2 MB 11.9 MB/s eta 0:00:01\n",
      "   ---------------------------------------  11.2/11.2 MB 11.9 MB/s eta 0:00:01\n",
      "   ---------------------------------------  11.2/11.2 MB 11.9 MB/s eta 0:00:01\n",
      "   ---------------------------------------- 11.2/11.2 MB 7.3 MB/s eta 0:00:00\n",
      "Downloading importlib_metadata-6.8.0-py3-none-any.whl (22 kB)\n",
      "Downloading protobuf-4.24.2-cp310-abi3-win_amd64.whl (430 kB)\n",
      "   ---------------------------------------- 0.0/430.4 kB ? eta -:--:--\n",
      "   --------------------------------------  430.1/430.4 kB 13.5 MB/s eta 0:00:01\n",
      "   --------------------------------------  430.1/430.4 kB 13.5 MB/s eta 0:00:01\n",
      "   --------------------------------------  430.1/430.4 kB 13.5 MB/s eta 0:00:01\n",
      "   --------------------------------------  430.1/430.4 kB 13.5 MB/s eta 0:00:01\n",
      "   --------------------------------------  430.1/430.4 kB 13.5 MB/s eta 0:00:01\n",
      "   --------------------------------------  430.1/430.4 kB 13.5 MB/s eta 0:00:01\n",
      "   ---------------------------------------- 430.4/430.4 kB 1.7 MB/s eta 0:00:00\n",
      "Downloading pytz-2023.3.post1-py2.py3-none-any.whl (502 kB)\n",
      "   ---------------------------------------- 0.0/502.5 kB ? eta -:--:--\n",
      "   ---------------------------------- ---- 450.6/502.5 kB 14.2 MB/s eta 0:00:01\n",
      "   --------------------------------------  501.8/502.5 kB 10.5 MB/s eta 0:00:01\n",
      "   --------------------------------------  501.8/502.5 kB 10.5 MB/s eta 0:00:01\n",
      "   --------------------------------------  501.8/502.5 kB 10.5 MB/s eta 0:00:01\n",
      "   ---------------------------------------- 502.5/502.5 kB 2.9 MB/s eta 0:00:00\n",
      "Downloading PyYAML-6.0.1-cp311-cp311-win_amd64.whl (144 kB)\n",
      "   ---------------------------------------- 0.0/144.7 kB ? eta -:--:--\n",
      "   ---------------------------------------  143.4/144.7 kB 8.3 MB/s eta 0:00:01\n",
      "   ---------------------------------------  143.4/144.7 kB 8.3 MB/s eta 0:00:01\n",
      "   ---------------------------------------- 144.7/144.7 kB 1.1 MB/s eta 0:00:00\n",
      "Downloading s3transfer-0.6.2-py3-none-any.whl (79 kB)\n",
      "   ---------------------------------------- 0.0/79.8 kB ? eta -:--:--\n",
      "   ----------------------------------- ---- 71.7/79.8 kB ? eta -:--:--\n",
      "   ----------------------------------- ---- 71.7/79.8 kB ? eta -:--:--\n",
      "   ----------------------------------- ---- 71.7/79.8 kB ? eta -:--:--\n",
      "   ---------------------------------------- 79.8/79.8 kB 496.6 kB/s eta 0:00:00\n",
      "Downloading jsonschema-4.19.0-py3-none-any.whl (83 kB)\n",
      "   ---------------------------------------- 0.0/83.4 kB ? eta -:--:--\n",
      "   ---------------------------------------  81.9/83.4 kB ? eta -:--:--\n",
      "   ---------------------------------------- 83.4/83.4 kB 778.1 kB/s eta 0:00:00\n",
      "Downloading pathos-0.3.1-py3-none-any.whl (82 kB)\n",
      "   ---------------------------------------- 0.0/82.1 kB ? eta -:--:--\n",
      "   ---------------------------------------  81.9/82.1 kB 4.5 MB/s eta 0:00:01\n",
      "   ---------------------------------------- 82.1/82.1 kB 909.6 kB/s eta 0:00:00\n",
      "Downloading dill-0.3.7-py3-none-any.whl (115 kB)\n",
      "   ---------------------------------------- 0.0/115.3 kB ? eta -:--:--\n",
      "   ------------------------------- -------- 92.2/115.3 kB ? eta -:--:--\n",
      "   ------------------------------- -------- 92.2/115.3 kB ? eta -:--:--\n",
      "   -------------------------------------  112.6/115.3 kB 939.4 kB/s eta 0:00:01\n",
      "   -------------------------------------  112.6/115.3 kB 939.4 kB/s eta 0:00:01\n",
      "   -------------------------------------  112.6/115.3 kB 939.4 kB/s eta 0:00:01\n",
      "   -------------------------------------  112.6/115.3 kB 939.4 kB/s eta 0:00:01\n",
      "   -------------------------------------  112.6/115.3 kB 939.4 kB/s eta 0:00:01\n",
      "   -------------------------------------  112.6/115.3 kB 939.4 kB/s eta 0:00:01\n",
      "   -------------------------------------  112.6/115.3 kB 939.4 kB/s eta 0:00:01\n",
      "   -------------------------------------- 115.3/115.3 kB 248.8 kB/s eta 0:00:00\n",
      "Downloading jsonschema_specifications-2023.7.1-py3-none-any.whl (17 kB)\n",
      "Downloading multiprocess-0.70.15-py311-none-any.whl (135 kB)\n",
      "   ---------------------------------------- 0.0/135.4 kB ? eta -:--:--\n",
      "   ---------------------------------------  133.1/135.4 kB ? eta -:--:--\n",
      "   ---------------------------------------  133.1/135.4 kB ? eta -:--:--\n",
      "   ---------------------------------------  133.1/135.4 kB ? eta -:--:--\n",
      "   ---------------------------------------  133.1/135.4 kB ? eta -:--:--\n",
      "   -------------------------------------- 135.4/135.4 kB 616.5 kB/s eta 0:00:00\n",
      "Downloading pox-0.3.3-py3-none-any.whl (29 kB)\n",
      "Downloading ppft-1.7.6.7-py3-none-any.whl (56 kB)\n",
      "   ---------------------------------------- 0.0/56.8 kB ? eta -:--:--\n",
      "   ------------------------------------ --- 51.2/56.8 kB ? eta -:--:--\n",
      "   ------------------------------------ --- 51.2/56.8 kB ? eta -:--:--\n",
      "   ---------------------------------------- 56.8/56.8 kB 427.0 kB/s eta 0:00:00\n",
      "Downloading referencing-0.30.2-py3-none-any.whl (25 kB)\n",
      "Downloading rpds_py-0.10.2-cp311-none-win_amd64.whl (184 kB)\n",
      "   ---------------------------------------- 0.0/184.5 kB ? eta -:--:--\n",
      "   ---------------------------------------  184.3/184.5 kB ? eta -:--:--\n",
      "   ---------------------------------------  184.3/184.5 kB ? eta -:--:--\n",
      "   ---------------------------------------- 184.5/184.5 kB 1.4 MB/s eta 0:00:00\n",
      "Downloading urllib3-1.26.16-py2.py3-none-any.whl (143 kB)\n",
      "   ---------------------------------------- 0.0/143.1 kB ? eta -:--:--\n",
      "   ------------------------------------- -- 133.1/143.1 kB ? eta -:--:--\n",
      "   ------------------------------------- -- 133.1/143.1 kB ? eta -:--:--\n",
      "   ------------------------------------- -- 133.1/143.1 kB ? eta -:--:--\n",
      "   -------------------------------------- 143.1/143.1 kB 851.7 kB/s eta 0:00:00\n",
      "Downloading zipp-3.16.2-py3-none-any.whl (7.2 kB)\n",
      "Building wheels for collected packages: sagemaker\n",
      "  Building wheel for sagemaker (pyproject.toml): started\n",
      "  Building wheel for sagemaker (pyproject.toml): finished with status 'done'\n",
      "  Created wheel for sagemaker: filename=sagemaker-2.183.0-py2.py3-none-any.whl size=1185548 sha256=3703cacee53fd42378c2af59c38ca7e0c073677f11f422dff5baebc79727e50c\n",
      "  Stored in directory: c:\\users\\miguel dominutti\\appdata\\local\\pip\\cache\\wheels\\e5\\92\\a9\\86927b119751c129a6f5016b95778a0fbddcd29c09cb153b59\n",
      "Successfully built sagemaker\n",
      "Installing collected packages: pytz, zipp, urllib3, tzdata, tblib, smdebug-rulesconfig, rpds-py, PyYAML, protobuf, ppft, pox, numpy, jmespath, google-pasta, dill, contextlib2, cloudpickle, attrs, schema, referencing, pandas, multiprocess, importlib-metadata, botocore, s3transfer, pathos, jsonschema-specifications, jsonschema, boto3, sagemaker\n",
      "Successfully installed PyYAML-6.0.1 attrs-23.1.0 boto3-1.28.42 botocore-1.31.42 cloudpickle-2.2.1 contextlib2-21.6.0 dill-0.3.7 google-pasta-0.2.0 importlib-metadata-6.8.0 jmespath-1.0.1 jsonschema-4.19.0 jsonschema-specifications-2023.7.1 multiprocess-0.70.15 numpy-1.25.2 pandas-2.1.0 pathos-0.3.1 pox-0.3.3 ppft-1.7.6.7 protobuf-4.24.2 pytz-2023.3.post1 referencing-0.30.2 rpds-py-0.10.2 s3transfer-0.6.2 sagemaker-2.183.0 schema-0.7.5 smdebug-rulesconfig-1.0.1 tblib-1.7.0 tzdata-2023.3 urllib3-1.26.16 zipp-3.16.2\n"
     ]
    },
    {
     "name": "stderr",
     "output_type": "stream",
     "text": [
      "El sistema no puede encontrar la ruta especificada.\n"
     ]
    }
   ],
   "source": [
    "!pip install -y boto3 numpy pandas sagemaker"
   ]
  },
  {
   "cell_type": "code",
   "execution_count": 4,
   "metadata": {},
   "outputs": [
    {
     "ename": "ModuleNotFoundError",
     "evalue": "No module named 'boto3'",
     "output_type": "error",
     "traceback": [
      "\u001b[1;31m---------------------------------------------------------------------------\u001b[0m",
      "\u001b[1;31mModuleNotFoundError\u001b[0m                       Traceback (most recent call last)",
      "Cell \u001b[1;32mIn[4], line 1\u001b[0m\n\u001b[1;32m----> 1\u001b[0m \u001b[39mimport\u001b[39;00m \u001b[39mboto3\u001b[39;00m\n\u001b[0;32m      2\u001b[0m \u001b[39mimport\u001b[39;00m \u001b[39mre\u001b[39;00m\n\u001b[0;32m      3\u001b[0m \u001b[39mimport\u001b[39;00m \u001b[39mos\u001b[39;00m\n",
      "\u001b[1;31mModuleNotFoundError\u001b[0m: No module named 'boto3'"
     ]
    }
   ],
   "source": [
    "import boto3\n",
    "import re\n",
    "import os\n",
    "import numpy as np\n",
    "import pandas as pd\n",
    "from sagemaker import get_execution_role\n",
    "from sagemaker.serializers import CSVSerializer\n",
    "from sagemaker.deserializers import CSVDeserializer\n",
    "import roles\n",
    "import sagemaker as sage\n",
    "from time import gmtime, strftime"
   ]
  },
  {
   "cell_type": "code",
   "execution_count": 5,
   "metadata": {},
   "outputs": [],
   "source": [
    "#Set to True if you want to train before deploy\n",
    "TRAIN = False"
   ]
  },
  {
   "cell_type": "markdown",
   "metadata": {},
   "source": [
    "### AWS connection startup"
   ]
  },
  {
   "cell_type": "code",
   "execution_count": 6,
   "metadata": {},
   "outputs": [
    {
     "ename": "NameError",
     "evalue": "name 'roles' is not defined",
     "output_type": "error",
     "traceback": [
      "\u001b[1;31m---------------------------------------------------------------------------\u001b[0m",
      "\u001b[1;31mNameError\u001b[0m                                 Traceback (most recent call last)",
      "Cell \u001b[1;32mIn[6], line 1\u001b[0m\n\u001b[1;32m----> 1\u001b[0m role \u001b[39m=\u001b[39m \u001b[39mf\u001b[39m\u001b[39m\"\u001b[39m\u001b[39marn:aws:iam::\u001b[39m\u001b[39m{\u001b[39;00mroles\u001b[39m.\u001b[39maccount_ID\u001b[39m}\u001b[39;00m\u001b[39m:role/\u001b[39m\u001b[39m{\u001b[39;00mroles\u001b[39m.\u001b[39mSageMakerExecutionRole\u001b[39m}\u001b[39;00m\u001b[39m\"\u001b[39m\n\u001b[0;32m      2\u001b[0m sess \u001b[39m=\u001b[39m sage\u001b[39m.\u001b[39mSession()\n",
      "\u001b[1;31mNameError\u001b[0m: name 'roles' is not defined"
     ]
    }
   ],
   "source": [
    "role = f\"arn:aws:iam::{roles.account_ID}:role/{roles.SageMakerExecutionRole}\"\n",
    "sess = sage.Session()"
   ]
  },
  {
   "cell_type": "markdown",
   "metadata": {},
   "source": [
    "---"
   ]
  },
  {
   "cell_type": "markdown",
   "metadata": {},
   "source": [
    "### Sample data upload to S3"
   ]
  },
  {
   "cell_type": "code",
   "execution_count": null,
   "metadata": {},
   "outputs": [],
   "source": [
    "WORK_DIRECTORY = \"../src/data\"\n",
    "prefix = \"DEMO-DATA\"\n",
    "data_location = sess.upload_data(WORK_DIRECTORY, key_prefix=prefix)"
   ]
  },
  {
   "cell_type": "markdown",
   "metadata": {},
   "source": [
    "---"
   ]
  },
  {
   "cell_type": "markdown",
   "metadata": {},
   "source": [
    "### TRAINING"
   ]
  },
  {
   "cell_type": "markdown",
   "metadata": {},
   "source": [
    "To create the estimator we need:\n",
    "* an ECR image\n",
    "* a role\n",
    "* an instance_type\n",
    "* and output_path\n",
    "* a session"
   ]
  },
  {
   "cell_type": "code",
   "execution_count": null,
   "metadata": {},
   "outputs": [],
   "source": [
    "# # we use the Hyperparameter Tuner\n",
    "# from sagemaker.tuner import IntegerParameter\n",
    "\n",
    "# # Define exploration boundaries\n",
    "# hyperparameter_ranges = {\n",
    "#     \"n-estimators\": IntegerParameter(20, 100),\n",
    "#     \"min-samples-leaf\": IntegerParameter(2, 6),\n",
    "# }\n",
    "\n",
    "# # create Optimizer\n",
    "# Optimizer = sagemaker.tuner.HyperparameterTuner(\n",
    "#     estimator=sagemaker_model,\n",
    "#     hyperparameter_ranges=hyperparameter_ranges,\n",
    "#     base_tuning_job_name=\"RF-tuner\",\n",
    "#     objective_type=\"Minimize\",\n",
    "#     objective_metric_name=\"median-AE\",\n",
    "#     metric_definitions=[\n",
    "#         {\"Name\": \"median-AE\", \"Regex\": \"AE-at-50th-percentile: ([0-9.]+).*$\"} # Hay que hacer que el script de entrenamiento printee\n",
    "#     ],  # extract tracked metric from logs with regexp\n",
    "#     max_jobs=10,\n",
    "#     max_parallel_jobs=2,\n",
    "# )\n",
    "\n",
    "\n",
    "# Optimizer.fit({\"train\": trainpath, \"test\": testpath})\n",
    "\n",
    "\n",
    "# get tuner results in a df\n",
    "# results = Optimizer.analytics().dataframe()\n",
    "# while results.empty:\n",
    "#     time.sleep(1)\n",
    "#     results = Optimizer.analytics().dataframe()\n",
    "# results.head()"
   ]
  },
  {
   "cell_type": "code",
   "execution_count": null,
   "metadata": {},
   "outputs": [],
   "source": [
    "if TRAIN:\n",
    "    sagemaker_model = sage.estimator.Estimator(\n",
    "    image,\n",
    "    role,\n",
    "    1,\n",
    "    instance_type,\n",
    "    output_path=output_path,\n",
    "    sagemaker_session=sess,\n",
    "    container_port=8080\n",
    ")\n",
    "    sagemaker_model.fit(data_location)\n",
    "    # estimator.fit({\"training\": \"s3://bucket/path/to/training/data\", \n",
    "    #            \"testing\": \"s3://bucket/path/to/testing/data\"})\n",
    "else:\n",
    "    # Define your trained model artifact path\n",
    "    model_artifact = 's3://sagemaker-us-east-2-169385451286/output/sagemaker-deploy-terraform-2023-09-06-00-09-13-615/output/model.tar.gz'\n",
    "    \n",
    "    # Create a SageMaker Model object\n",
    "    sagemaker_model = Model(\n",
    "        model_data=model_artifact,\n",
    "        role=role,\n",
    "        image_uri=image\n",
    "    )"
   ]
  },
  {
   "cell_type": "markdown",
   "metadata": {},
   "source": [
    "---"
   ]
  },
  {
   "cell_type": "markdown",
   "metadata": {},
   "source": [
    "### HOSTING"
   ]
  },
  {
   "cell_type": "markdown",
   "metadata": {},
   "source": [
    "Deploying process may take some minutes, you can check the status in your aws sagemaker client"
   ]
  },
  {
   "cell_type": "code",
   "execution_count": null,
   "metadata": {},
   "outputs": [],
   "source": [
    "predictor = sagemaker_model.deploy(1, \"ml.m4.xlarge\", serializer=CSVSerializer(), deserializer=CSVDeserializer())"
   ]
  },
  {
   "cell_type": "markdown",
   "metadata": {},
   "source": [
    "---"
   ]
  },
  {
   "cell_type": "markdown",
   "metadata": {},
   "source": [
    "### Sample trial"
   ]
  },
  {
   "cell_type": "code",
   "execution_count": null,
   "metadata": {},
   "outputs": [],
   "source": [
    "shape = pd.read_csv(\"../src/data/iris.csv\", header=None)\n",
    "shape.sample(3)"
   ]
  },
  {
   "cell_type": "code",
   "execution_count": null,
   "metadata": {},
   "outputs": [],
   "source": [
    "# drop the label column in the training set\n",
    "shape.drop(shape.columns[[0]], axis=1, inplace=True)\n",
    "shape.sample(3)"
   ]
  },
  {
   "cell_type": "code",
   "execution_count": null,
   "metadata": {},
   "outputs": [],
   "source": [
    "import itertools\n",
    "\n",
    "a = [50 * i for i in range(3)]\n",
    "b = [40 + i for i in range(10)]\n",
    "indices = [i + j for i, j in itertools.product(a, b)]\n",
    "\n",
    "test_data = shape.iloc[indices[:-1]]"
   ]
  },
  {
   "cell_type": "code",
   "execution_count": null,
   "metadata": {},
   "outputs": [],
   "source": [
    "if not TRAIN:\n",
    "    endpoint_name = 'sagemaker-deploy-terraform-2023-09-06-19-19-03-606'\n",
    "    predictor = sage.predictor.Predictor(endpoint_name)"
   ]
  },
  {
   "cell_type": "code",
   "execution_count": null,
   "metadata": {},
   "outputs": [],
   "source": [
    "print(predictor.predict(test_data.to_csv(sep=\",\", header=False, index=False)))#.decode(\"utf-8\")\n",
    "#test_data.values"
   ]
  },
  {
   "cell_type": "code",
   "execution_count": null,
   "metadata": {},
   "outputs": [],
   "source": [
    "import boto3\n",
    "import json\n",
    "# Create a SageMaker runtime client\n",
    "sagemaker_runtime = boto3.client('sagemaker-runtime')"
   ]
  },
  {
   "cell_type": "code",
   "execution_count": null,
   "metadata": {},
   "outputs": [],
   "source": [
    "# Specify the endpoint name and content type\n",
    "content_type = 'text/csv'  # Adjust this based on your model's input format\n",
    "\n",
    "# Prepare your input data (modify to match your model's input format)\n",
    "input_data = {\"data\": test_data.to_csv(sep=\",\", header=False, index=False)}"
   ]
  },
  {
   "cell_type": "code",
   "execution_count": null,
   "metadata": {},
   "outputs": [],
   "source": [
    "# Send the prediction request\n",
    "response = sagemaker_runtime.invoke_endpoint(\n",
    "    EndpointName=endpoint_name,\n",
    "    ContentType=content_type,\n",
    "    Body=json.dumps(input_data)\n",
    ")"
   ]
  },
  {
   "cell_type": "markdown",
   "metadata": {},
   "source": [
    "---"
   ]
  },
  {
   "cell_type": "markdown",
   "metadata": {},
   "source": [
    "### Clean up"
   ]
  },
  {
   "cell_type": "code",
   "execution_count": null,
   "metadata": {},
   "outputs": [],
   "source": [
    "#sess.delete_endpoint(predictor.endpoint)"
   ]
  }
 ],
 "metadata": {
  "kernelspec": {
   "display_name": "trian_serve",
   "language": "python",
   "name": "python3"
  },
  "language_info": {
   "codemirror_mode": {
    "name": "ipython",
    "version": 3
   },
   "file_extension": ".py",
   "mimetype": "text/x-python",
   "name": "python",
   "nbconvert_exporter": "python",
   "pygments_lexer": "ipython3",
   "version": "3.11.5"
  },
  "orig_nbformat": 4
 },
 "nbformat": 4,
 "nbformat_minor": 2
}
